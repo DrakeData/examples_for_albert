{
 "cells": [
  {
   "cell_type": "markdown",
   "metadata": {},
   "source": [
    "## Q1: What are libraries\n",
    "A Python library is a collection of related modules. It contains bundles of code that can be used repeatedly in different programs. It makes Python Programming simpler and convenient for the programmer. As we don’t need to write the same code again and again for different programs. Python libraries play a very vital role in fields of Machine Learning, Data Science, Data Visualization, etc.\n",
    "\n",
    "Link: https://www.geeksforgeeks.org/libraries-in-python/\n",
    "\n",
    "## Q2: How to install libraries/packages\n",
    "Using pip or conda install\n",
    "\n",
    "Link: https://datatofish.com/install-package-python-using-pip/"
   ]
  },
  {
   "cell_type": "code",
   "execution_count": null,
   "metadata": {},
   "outputs": [],
   "source": [
    "# Use import to use libraries\n",
    "import os"
   ]
  },
  {
   "cell_type": "markdown",
   "metadata": {},
   "source": [
    "## Q3: How to set up directories"
   ]
  },
  {
   "cell_type": "code",
   "execution_count": null,
   "metadata": {},
   "outputs": [],
   "source": [
    "# Use os.getcwd() to get current directory\n",
    "os.getcwd()"
   ]
  },
  {
   "cell_type": "markdown",
   "metadata": {},
   "source": [
    "In Python, when you prefix a string with the letter r or R such as r'...' and R'...', that string becomes a raw string. Unlike a regular string, a raw string treats the backslashes (\\) as literal characters."
   ]
  },
  {
   "cell_type": "code",
   "execution_count": null,
   "metadata": {},
   "outputs": [],
   "source": [
    "# You can also set the directory manually\n",
    "dir_example = r\"C:\\Users\\Nicholas\\Desktop\\Python\\examples_for_albert\\example1\"\n",
    "dir_example"
   ]
  },
  {
   "cell_type": "code",
   "execution_count": null,
   "metadata": {},
   "outputs": [],
   "source": [
    "# User input to specify directory\n",
    "dir_example2 = input(\"Please enter directory name: \").replace(\"/\", '//')\n",
    "dir_example2"
   ]
  },
  {
   "cell_type": "markdown",
   "metadata": {},
   "source": [
    "## Q4: What are config.py files?\n",
    "Config files are used to store key value pairs or some configurable information that could be read or accessed in the code and at some point, of time.\n",
    "\n",
    "Link: https://www.c-sharpcorner.com/article/configuration-files-in-python/#:~:text=Config%20files%20are%20used%20to,at%20some%20point%2C%20of%20time.\n",
    "\n",
    "## Q5: How to access config file that is not in a working directory\n",
    "See below example\n",
    "\n",
    "helpful link: https://florian-dahlitz.de/articles/how-to-work-with-config-files-in-python"
   ]
  },
  {
   "cell_type": "code",
   "execution_count": 12,
   "metadata": {},
   "outputs": [
    {
     "data": {
      "text/plain": [
       "['C:\\\\Users\\\\Nicholas\\\\Desktop\\\\Python\\\\examples_for_albert\\\\config\\\\config.py']"
      ]
     },
     "execution_count": 12,
     "metadata": {},
     "output_type": "execute_result"
    }
   ],
   "source": [
    "from configparser import ConfigParser\n",
    "config = ConfigParser()\n",
    "\n",
    "# Specify file path\n",
    "config_file = r\"C:\\Users\\Nicholas\\Desktop\\Python\\examples_for_albert\\config\\config.py\"\n",
    "\n",
    "config.read(config_file)"
   ]
  },
  {
   "cell_type": "code",
   "execution_count": 13,
   "metadata": {},
   "outputs": [
    {
     "name": "stdout",
     "output_type": "stream",
     "text": [
      "Sections: ['admin']\n"
     ]
    }
   ],
   "source": [
    "print(f\"Sections: {config.sections()}\")"
   ]
  },
  {
   "cell_type": "code",
   "execution_count": 14,
   "metadata": {},
   "outputs": [
    {
     "name": "stdout",
     "output_type": "stream",
     "text": [
      "Options: ['key_example']\n"
     ]
    }
   ],
   "source": [
    "# Previous code in config.py\n",
    "print(f'Options: {config.options(\"admin\")}')"
   ]
  },
  {
   "cell_type": "code",
   "execution_count": 16,
   "metadata": {},
   "outputs": [
    {
     "name": "stdout",
     "output_type": "stream",
     "text": [
      "\"1234_key_example\"\n"
     ]
    }
   ],
   "source": [
    "# Get key example from config file\n",
    "print(config[\"admin\"][\"key_example\"])"
   ]
  }
 ],
 "metadata": {
  "kernelspec": {
   "display_name": "Python 3",
   "language": "python",
   "name": "python3"
  },
  "language_info": {
   "codemirror_mode": {
    "name": "ipython",
    "version": 3
   },
   "file_extension": ".py",
   "mimetype": "text/x-python",
   "name": "python",
   "nbconvert_exporter": "python",
   "pygments_lexer": "ipython3",
   "version": "3.8.5"
  }
 },
 "nbformat": 4,
 "nbformat_minor": 4
}
